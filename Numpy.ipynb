{
 "cells": [
  {
   "cell_type": "code",
   "execution_count": 1,
   "id": "d7dc6696",
   "metadata": {},
   "outputs": [],
   "source": [
    "import numpy as np"
   ]
  },
  {
   "cell_type": "markdown",
   "id": "24ad2690",
   "metadata": {},
   "source": [
    "# Numpy\n",
    "\n",
    "Numpy is a fundamental library for scientific computing in python. It provides support for arrays and matrices, along with a collection of mathematical functions to operate on these data structures."
   ]
  },
  {
   "cell_type": "markdown",
   "id": "38c0d521",
   "metadata": {},
   "source": [
    "### Creating array using Numpy"
   ]
  },
  {
   "cell_type": "code",
   "execution_count": 4,
   "id": "c9d2bd0a",
   "metadata": {},
   "outputs": [
    {
     "name": "stdout",
     "output_type": "stream",
     "text": [
      "[1 2 3 4 5 6]\n",
      "<class 'numpy.ndarray'>\n",
      "(6,)\n"
     ]
    }
   ],
   "source": [
    "# Create a 1D Array\n",
    "\n",
    "arr1 = np.array([1,2,3,4,5,6])\n",
    "print(arr1)\n",
    "print(type(arr1))\n",
    "print(arr1.shape)"
   ]
  },
  {
   "cell_type": "code",
   "execution_count": 15,
   "id": "6216a99b",
   "metadata": {},
   "outputs": [
    {
     "data": {
      "text/plain": [
       "array([[1, 2, 3, 4, 5, 6]])"
      ]
     },
     "execution_count": 15,
     "metadata": {},
     "output_type": "execute_result"
    }
   ],
   "source": [
    "\n",
    "arr2 = np.array([1,2,3,4,5,6])\n",
    "arr2.reshape(1,6)\n"
   ]
  },
  {
   "cell_type": "code",
   "execution_count": 19,
   "id": "e68482ef",
   "metadata": {},
   "outputs": [
    {
     "name": "stdout",
     "output_type": "stream",
     "text": [
      "[[1 2 3 4]\n",
      " [4 5 6 7]]\n",
      "(2, 4)\n"
     ]
    }
   ],
   "source": [
    "# Create a 2D\n",
    "\n",
    "arr3 = np.array([[1,2,3,4],[4,5,6,7]])\n",
    "print(arr3)\n",
    "print(arr3.shape)\n",
    "\n",
    "# so only you could form proper shape with same no.of coloums "
   ]
  },
  {
   "cell_type": "markdown",
   "id": "b1120889",
   "metadata": {},
   "source": [
    "### Attributes of Numpy Array "
   ]
  },
  {
   "cell_type": "code",
   "execution_count": null,
   "id": "3e4fd38f",
   "metadata": {},
   "outputs": [],
   "source": [
    "\n",
    "\n",
    "arr = np.array([[1,2,3,4],[5,6,7,8]])\n",
    "\n",
    "print(arr.shape) #Output would be (2,4)\n",
    "print(arr.ndim) #Output would be 2 as its 2D array\n",
    "print(arr.size) #Output would be 8 as its total no of elements \n",
    "print(arr.dtype) #Output would be int32 as its integer data type \n",
    "print(arr.itemsize) #Output would be 4 \n"
   ]
  },
  {
   "cell_type": "markdown",
   "id": "54f8da26",
   "metadata": {},
   "source": [
    "### Numpy Vectorized Operations"
   ]
  },
  {
   "cell_type": "code",
   "execution_count": 21,
   "id": "eb0a5f77",
   "metadata": {},
   "outputs": [
    {
     "name": "stdout",
     "output_type": "stream",
     "text": [
      "Add:  [11 22 33 44 55]\n",
      "Substraction:  [ -9 -18 -27 -36 -45]\n",
      "Multiply:  [ 10  40  90 160 250]\n",
      "Divide:  [0.1 0.1 0.1 0.1 0.1]\n"
     ]
    }
   ],
   "source": [
    "arr5 = np.array([1,2,3,4,5])\n",
    "arr6 = np.array([10,20,30,40,50])\n",
    "\n",
    "# Element Wise Addition\n",
    "print(\"Add: \", arr5+arr6)\n",
    "\n",
    "# Element Wise Substraction\n",
    "print(\"Substraction: \", arr5-arr6)\n",
    "\n",
    "# Element Wise Multiplication\n",
    "print(\"Multiply: \", arr5*arr6)\n",
    "\n",
    "# Element Wise Divide\n",
    "print(\"Divide: \", arr5/arr6)\n"
   ]
  },
  {
   "cell_type": "markdown",
   "id": "0ef777d0",
   "metadata": {},
   "source": [
    "### Universal Function"
   ]
  },
  {
   "cell_type": "code",
   "execution_count": 22,
   "id": "bf8d09d9",
   "metadata": {},
   "outputs": [
    {
     "name": "stdout",
     "output_type": "stream",
     "text": [
      "[1.41421356 1.73205081 2.         2.23606798 2.44948974]\n",
      "[  7.3890561   20.08553692  54.59815003 148.4131591  403.42879349]\n",
      "[ 0.90929743  0.14112001 -0.7568025  -0.95892427 -0.2794155 ]\n",
      "[0.69314718 1.09861229 1.38629436 1.60943791 1.79175947]\n"
     ]
    }
   ],
   "source": [
    "arr7 = np.array([2,3,4,5,6])\n",
    "\n",
    "# Square Root \n",
    "print(np.sqrt(arr7))\n",
    "\n",
    "# Exponential\n",
    "print(np.exp(arr7))\n",
    "\n",
    "# Sine\n",
    "print(np.sin(arr7))\n",
    "\n",
    "#Natural Log\n",
    "print(np.log(arr7))"
   ]
  },
  {
   "cell_type": "markdown",
   "id": "805101f4",
   "metadata": {},
   "source": [
    "### Array Slicing and Indexing "
   ]
  },
  {
   "cell_type": "code",
   "execution_count": 24,
   "id": "60943529",
   "metadata": {},
   "outputs": [],
   "source": [
    "arr8 = np.array([[1,2,3,4,5],[6,7,8,9,10],[15,20,30,40,50]])"
   ]
  },
  {
   "cell_type": "code",
   "execution_count": 25,
   "id": "e7f91196",
   "metadata": {},
   "outputs": [
    {
     "data": {
      "text/plain": [
       "array([[ 1,  2,  3,  4,  5],\n",
       "       [ 6,  7,  8,  9, 10],\n",
       "       [15, 20, 30, 40, 50]])"
      ]
     },
     "execution_count": 25,
     "metadata": {},
     "output_type": "execute_result"
    }
   ],
   "source": [
    "arr8"
   ]
  },
  {
   "cell_type": "code",
   "execution_count": 28,
   "id": "e04e13a9",
   "metadata": {},
   "outputs": [
    {
     "data": {
      "text/plain": [
       "array([[ 8,  9, 10],\n",
       "       [30, 40, 50]])"
      ]
     },
     "execution_count": 28,
     "metadata": {},
     "output_type": "execute_result"
    }
   ],
   "source": [
    "arr8[1: ,2:]"
   ]
  },
  {
   "cell_type": "code",
   "execution_count": 29,
   "id": "bce8d885",
   "metadata": {},
   "outputs": [
    {
     "data": {
      "text/plain": [
       "4"
      ]
     },
     "execution_count": 29,
     "metadata": {},
     "output_type": "execute_result"
    }
   ],
   "source": [
    "arr8[0][3] "
   ]
  },
  {
   "cell_type": "code",
   "execution_count": 30,
   "id": "d3f290df",
   "metadata": {},
   "outputs": [
    {
     "name": "stdout",
     "output_type": "stream",
     "text": [
      "[[25  2  3  4  5]\n",
      " [ 6  7  8  9 10]\n",
      " [15 20 30 40 50]]\n"
     ]
    }
   ],
   "source": [
    "#Modifying array Elements \n",
    "arr8[0,0]=25\n",
    "print(arr8)"
   ]
  },
  {
   "cell_type": "markdown",
   "id": "4944611e",
   "metadata": {},
   "source": [
    "### Statistical Concepts - Normalization"
   ]
  },
  {
   "cell_type": "code",
   "execution_count": 31,
   "id": "3c6e1c63",
   "metadata": {},
   "outputs": [
    {
     "name": "stdout",
     "output_type": "stream",
     "text": [
      "Normalized Shit : [-1.41421356 -0.70710678  0.          0.70710678  1.41421356]\n"
     ]
    }
   ],
   "source": [
    "data = np.array([1,2,3,4,5])\n",
    "\n",
    "# Calculate the mean and Standard Deviation\n",
    "mean = np.mean(data)\n",
    "std = np.std(data)\n",
    "\n",
    "# Normalize the data\n",
    "Normalization_data = (data - mean)/std\n",
    "print(\"Normalized Shit :\", Normalization_data)"
   ]
  },
  {
   "cell_type": "code",
   "execution_count": 33,
   "id": "67eb8503",
   "metadata": {},
   "outputs": [
    {
     "name": "stdout",
     "output_type": "stream",
     "text": [
      "Mean: 3.0\n",
      "Median: 3.0\n",
      "Std_deviation: 1.4142135623730951\n",
      "Variance: 2.0\n"
     ]
    }
   ],
   "source": [
    "data_1 = np.array([1,2,3,4,5,6,7,8,9,10])\n",
    "\n",
    "# Mean\n",
    "mean = np.mean(data)\n",
    "print('Mean:', mean)\n",
    "\n",
    "#Median\n",
    "median = np.median(data)\n",
    "print('Median:', median)\n",
    "\n",
    "#Std_Deviation\n",
    "Std_deviation = np.std(data)\n",
    "print('Std_deviation:', Std_deviation)\n",
    "\n",
    "#Variance\n",
    "variance = np.var(data)\n",
    "print('Variance:', variance)\n"
   ]
  },
  {
   "cell_type": "code",
   "execution_count": null,
   "id": "f8b6c701",
   "metadata": {},
   "outputs": [],
   "source": []
  }
 ],
 "metadata": {
  "kernelspec": {
   "display_name": "Python 3 (ipykernel)",
   "language": "python",
   "name": "python3"
  },
  "language_info": {
   "codemirror_mode": {
    "name": "ipython",
    "version": 3
   },
   "file_extension": ".py",
   "mimetype": "text/x-python",
   "name": "python",
   "nbconvert_exporter": "python",
   "pygments_lexer": "ipython3",
   "version": "3.11.5"
  }
 },
 "nbformat": 4,
 "nbformat_minor": 5
}
